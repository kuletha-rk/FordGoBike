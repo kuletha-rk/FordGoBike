{
  "nbformat": 4,
  "nbformat_minor": 0,
  "metadata": {
    "colab": {
      "name": "FGB 27th May.ipynb",
      "provenance": [],
      "collapsed_sections": [],
      "authorship_tag": "ABX9TyNA93qVL9paiPpL7VYlQjrZ",
      "include_colab_link": true
    },
    "kernelspec": {
      "name": "python3",
      "display_name": "Python 3"
    }
  },
  "cells": [
    {
      "cell_type": "markdown",
      "metadata": {
        "id": "view-in-github",
        "colab_type": "text"
      },
      "source": [
        "<a href=\"https://colab.research.google.com/github/kuletha-rk/FordGoBike/blob/master/FGB_27th_May.ipynb\" target=\"_parent\"><img src=\"https://colab.research.google.com/assets/colab-badge.svg\" alt=\"Open In Colab\"/></a>"
      ]
    },
    {
      "cell_type": "markdown",
      "metadata": {
        "id": "Y_QNhySq9RAH",
        "colab_type": "text"
      },
      "source": [
        "##**Ford Go Bike data analysis : Rishabh Kuletha**##\n",
        "\n",
        "**https://www.linkedin.com/in/rishabh-kuletha-195375179/**\n",
        "\n",
        "\n",
        "\n",
        "*System Data*\n",
        " \n",
        " \n",
        " Source - https://www.lyft.com/bikes/bay-wheels/system-data\n",
        "\n",
        "\n",
        "\n",
        "\n",
        "Here you'll find Bay Wheels's trip data for public use. So whether you're a designer, developer or just plain curious, feel free to download it and bring it to life. This data is provided according to the Bay Wheels License Agreement.\n",
        "\n",
        "The Data Each trip is anonymized and includes:\n",
        "1. Trip Duration (seconds)\n",
        "2. Start Time and Date\n",
        "3. End Time and Date\n",
        "4. Start Station ID\n",
        "5. Start Station Name\n",
        "6. Start Station Latitude\n",
        "7. Start Station Longitude\n",
        "8. End Station ID\n",
        "9. End Station Name\n",
        "10. End Station Latitude\n",
        "11. End Station Longitude\n",
        "12. Bike ID\n",
        "\n",
        "Download Bay Wheels trip history data - https://s3.amazonaws.com/baywheels-data/index.html\n",
        "\n"
      ]
    },
    {
      "cell_type": "markdown",
      "metadata": {
        "id": "0M_eLHdbAgeq",
        "colab_type": "text"
      },
      "source": [
        "##**Curosities leading to  this analysis?**##\n",
        "\n",
        "Following are the curosities:\n",
        "*   Impact of age,gender, duration, time of the day/week on ride demand.\n",
        "\n",
        "*   Which Stations are most frequently used? Or which station has most demand for the bikes.\n",
        "\n",
        "#   Such analysis can be used to further better user experience and target advertisement.\n",
        "\n"
      ]
    },
    {
      "cell_type": "markdown",
      "metadata": {
        "id": "RhvF943gENT2",
        "colab_type": "text"
      },
      "source": [
        "\n",
        "\n",
        "##**Setup libraries and reading data**##\n",
        "\n",
        "\n",
        "\n"
      ]
    },
    {
      "cell_type": "code",
      "metadata": {
        "id": "lEJDlv5QDAiQ",
        "colab_type": "code",
        "colab": {}
      },
      "source": [
        "import pandas as pd\n",
        "import numpy as np\n",
        "import matplotlib.pyplot as plt\n",
        "%matplotlib inline\n",
        "import seaborn as sns\n",
        "import plotly.express as px"
      ],
      "execution_count": 0,
      "outputs": []
    },
    {
      "cell_type": "code",
      "metadata": {
        "id": "Jsd0xj8zC-hS",
        "colab_type": "code",
        "colab": {}
      },
      "source": [
        "df = pd.read_csv('https://s3.amazonaws.com/fordgobike-data/2017-fordgobike-tripdata.csv')"
      ],
      "execution_count": 0,
      "outputs": []
    },
    {
      "cell_type": "code",
      "metadata": {
        "id": "Utu8SjYl7gzq",
        "colab_type": "code",
        "outputId": "9073c02b-dbd9-42ec-93d0-675dfd0b88b1",
        "colab": {
          "base_uri": "https://localhost:8080/",
          "height": 408
        }
      },
      "source": [
        "df.info()"
      ],
      "execution_count": 82,
      "outputs": [
        {
          "output_type": "stream",
          "text": [
            "<class 'pandas.core.frame.DataFrame'>\n",
            "RangeIndex: 519700 entries, 0 to 519699\n",
            "Data columns (total 16 columns):\n",
            " #   Column                   Non-Null Count   Dtype  \n",
            "---  ------                   --------------   -----  \n",
            " 0   duration_sec             519700 non-null  int64  \n",
            " 1   start_time               519700 non-null  object \n",
            " 2   end_time                 519700 non-null  object \n",
            " 3   start_station_id         519700 non-null  int64  \n",
            " 4   start_station_name       519700 non-null  object \n",
            " 5   start_station_latitude   519700 non-null  float64\n",
            " 6   start_station_longitude  519700 non-null  float64\n",
            " 7   end_station_id           519700 non-null  int64  \n",
            " 8   end_station_name         519700 non-null  object \n",
            " 9   end_station_latitude     519700 non-null  float64\n",
            " 10  end_station_longitude    519700 non-null  float64\n",
            " 11  bike_id                  519700 non-null  int64  \n",
            " 12  user_type                519700 non-null  object \n",
            " 13  member_birth_year        453159 non-null  float64\n",
            " 14  member_gender            453238 non-null  object \n",
            " 15  member_age               453159 non-null  float64\n",
            "dtypes: float64(6), int64(4), object(6)\n",
            "memory usage: 63.4+ MB\n"
          ],
          "name": "stdout"
        }
      ]
    },
    {
      "cell_type": "code",
      "metadata": {
        "id": "ctuISfqBei-b",
        "colab_type": "code",
        "outputId": "09810614-03ec-4689-cd85-1e98df3dc401",
        "colab": {
          "base_uri": "https://localhost:8080/",
          "height": 360
        }
      },
      "source": [
        "df.head()"
      ],
      "execution_count": 52,
      "outputs": [
        {
          "output_type": "execute_result",
          "data": {
            "text/html": [
              "<div>\n",
              "<style scoped>\n",
              "    .dataframe tbody tr th:only-of-type {\n",
              "        vertical-align: middle;\n",
              "    }\n",
              "\n",
              "    .dataframe tbody tr th {\n",
              "        vertical-align: top;\n",
              "    }\n",
              "\n",
              "    .dataframe thead th {\n",
              "        text-align: right;\n",
              "    }\n",
              "</style>\n",
              "<table border=\"1\" class=\"dataframe\">\n",
              "  <thead>\n",
              "    <tr style=\"text-align: right;\">\n",
              "      <th></th>\n",
              "      <th>duration_sec</th>\n",
              "      <th>start_time</th>\n",
              "      <th>end_time</th>\n",
              "      <th>start_station_id</th>\n",
              "      <th>start_station_name</th>\n",
              "      <th>start_station_latitude</th>\n",
              "      <th>start_station_longitude</th>\n",
              "      <th>end_station_id</th>\n",
              "      <th>end_station_name</th>\n",
              "      <th>end_station_latitude</th>\n",
              "      <th>end_station_longitude</th>\n",
              "      <th>bike_id</th>\n",
              "      <th>user_type</th>\n",
              "      <th>member_birth_year</th>\n",
              "      <th>member_gender</th>\n",
              "    </tr>\n",
              "  </thead>\n",
              "  <tbody>\n",
              "    <tr>\n",
              "      <th>0</th>\n",
              "      <td>80110</td>\n",
              "      <td>2017-12-31 16:57:39.6540</td>\n",
              "      <td>2018-01-01 15:12:50.2450</td>\n",
              "      <td>74</td>\n",
              "      <td>Laguna St at Hayes St</td>\n",
              "      <td>37.776435</td>\n",
              "      <td>-122.426244</td>\n",
              "      <td>43</td>\n",
              "      <td>San Francisco Public Library (Grove St at Hyde...</td>\n",
              "      <td>37.778768</td>\n",
              "      <td>-122.415929</td>\n",
              "      <td>96</td>\n",
              "      <td>Customer</td>\n",
              "      <td>1987.0</td>\n",
              "      <td>Male</td>\n",
              "    </tr>\n",
              "    <tr>\n",
              "      <th>1</th>\n",
              "      <td>78800</td>\n",
              "      <td>2017-12-31 15:56:34.8420</td>\n",
              "      <td>2018-01-01 13:49:55.6170</td>\n",
              "      <td>284</td>\n",
              "      <td>Yerba Buena Center for the Arts (Howard St at ...</td>\n",
              "      <td>37.784872</td>\n",
              "      <td>-122.400876</td>\n",
              "      <td>96</td>\n",
              "      <td>Dolores St at 15th St</td>\n",
              "      <td>37.766210</td>\n",
              "      <td>-122.426614</td>\n",
              "      <td>88</td>\n",
              "      <td>Customer</td>\n",
              "      <td>1965.0</td>\n",
              "      <td>Female</td>\n",
              "    </tr>\n",
              "    <tr>\n",
              "      <th>2</th>\n",
              "      <td>45768</td>\n",
              "      <td>2017-12-31 22:45:48.4110</td>\n",
              "      <td>2018-01-01 11:28:36.8830</td>\n",
              "      <td>245</td>\n",
              "      <td>Downtown Berkeley BART</td>\n",
              "      <td>37.870348</td>\n",
              "      <td>-122.267764</td>\n",
              "      <td>245</td>\n",
              "      <td>Downtown Berkeley BART</td>\n",
              "      <td>37.870348</td>\n",
              "      <td>-122.267764</td>\n",
              "      <td>1094</td>\n",
              "      <td>Customer</td>\n",
              "      <td>NaN</td>\n",
              "      <td>NaN</td>\n",
              "    </tr>\n",
              "    <tr>\n",
              "      <th>3</th>\n",
              "      <td>62172</td>\n",
              "      <td>2017-12-31 17:31:10.6360</td>\n",
              "      <td>2018-01-01 10:47:23.5310</td>\n",
              "      <td>60</td>\n",
              "      <td>8th St at Ringold St</td>\n",
              "      <td>37.774520</td>\n",
              "      <td>-122.409449</td>\n",
              "      <td>5</td>\n",
              "      <td>Powell St BART Station (Market St at 5th St)</td>\n",
              "      <td>37.783899</td>\n",
              "      <td>-122.408445</td>\n",
              "      <td>2831</td>\n",
              "      <td>Customer</td>\n",
              "      <td>NaN</td>\n",
              "      <td>NaN</td>\n",
              "    </tr>\n",
              "    <tr>\n",
              "      <th>4</th>\n",
              "      <td>43603</td>\n",
              "      <td>2017-12-31 14:23:14.0010</td>\n",
              "      <td>2018-01-01 02:29:57.5710</td>\n",
              "      <td>239</td>\n",
              "      <td>Bancroft Way at Telegraph Ave</td>\n",
              "      <td>37.868813</td>\n",
              "      <td>-122.258764</td>\n",
              "      <td>247</td>\n",
              "      <td>Fulton St at Bancroft Way</td>\n",
              "      <td>37.867789</td>\n",
              "      <td>-122.265896</td>\n",
              "      <td>3167</td>\n",
              "      <td>Subscriber</td>\n",
              "      <td>1997.0</td>\n",
              "      <td>Female</td>\n",
              "    </tr>\n",
              "  </tbody>\n",
              "</table>\n",
              "</div>"
            ],
            "text/plain": [
              "   duration_sec                start_time  ... member_birth_year  member_gender\n",
              "0         80110  2017-12-31 16:57:39.6540  ...            1987.0           Male\n",
              "1         78800  2017-12-31 15:56:34.8420  ...            1965.0         Female\n",
              "2         45768  2017-12-31 22:45:48.4110  ...               NaN            NaN\n",
              "3         62172  2017-12-31 17:31:10.6360  ...               NaN            NaN\n",
              "4         43603  2017-12-31 14:23:14.0010  ...            1997.0         Female\n",
              "\n",
              "[5 rows x 15 columns]"
            ]
          },
          "metadata": {
            "tags": []
          },
          "execution_count": 52
        }
      ]
    },
    {
      "cell_type": "code",
      "metadata": {
        "id": "1B8uPLih88y7",
        "colab_type": "code",
        "outputId": "6cb394e9-8ed7-45f5-87cb-c577a0c50308",
        "colab": {
          "base_uri": "https://localhost:8080/",
          "height": 317
        }
      },
      "source": [
        "df.describe()"
      ],
      "execution_count": 53,
      "outputs": [
        {
          "output_type": "execute_result",
          "data": {
            "text/html": [
              "<div>\n",
              "<style scoped>\n",
              "    .dataframe tbody tr th:only-of-type {\n",
              "        vertical-align: middle;\n",
              "    }\n",
              "\n",
              "    .dataframe tbody tr th {\n",
              "        vertical-align: top;\n",
              "    }\n",
              "\n",
              "    .dataframe thead th {\n",
              "        text-align: right;\n",
              "    }\n",
              "</style>\n",
              "<table border=\"1\" class=\"dataframe\">\n",
              "  <thead>\n",
              "    <tr style=\"text-align: right;\">\n",
              "      <th></th>\n",
              "      <th>duration_sec</th>\n",
              "      <th>start_station_id</th>\n",
              "      <th>start_station_latitude</th>\n",
              "      <th>start_station_longitude</th>\n",
              "      <th>end_station_id</th>\n",
              "      <th>end_station_latitude</th>\n",
              "      <th>end_station_longitude</th>\n",
              "      <th>bike_id</th>\n",
              "      <th>member_birth_year</th>\n",
              "    </tr>\n",
              "  </thead>\n",
              "  <tbody>\n",
              "    <tr>\n",
              "      <th>count</th>\n",
              "      <td>519700.000000</td>\n",
              "      <td>519700.000000</td>\n",
              "      <td>519700.000000</td>\n",
              "      <td>519700.000000</td>\n",
              "      <td>519700.000000</td>\n",
              "      <td>519700.000000</td>\n",
              "      <td>519700.000000</td>\n",
              "      <td>519700.000000</td>\n",
              "      <td>453159.000000</td>\n",
              "    </tr>\n",
              "    <tr>\n",
              "      <th>mean</th>\n",
              "      <td>1099.009521</td>\n",
              "      <td>95.034245</td>\n",
              "      <td>37.771653</td>\n",
              "      <td>-122.363927</td>\n",
              "      <td>92.184041</td>\n",
              "      <td>37.771844</td>\n",
              "      <td>-122.363236</td>\n",
              "      <td>1672.533079</td>\n",
              "      <td>1980.404787</td>\n",
              "    </tr>\n",
              "    <tr>\n",
              "      <th>std</th>\n",
              "      <td>3444.146451</td>\n",
              "      <td>86.083078</td>\n",
              "      <td>0.086305</td>\n",
              "      <td>0.105573</td>\n",
              "      <td>84.969491</td>\n",
              "      <td>0.086224</td>\n",
              "      <td>0.105122</td>\n",
              "      <td>971.356959</td>\n",
              "      <td>10.513488</td>\n",
              "    </tr>\n",
              "    <tr>\n",
              "      <th>min</th>\n",
              "      <td>61.000000</td>\n",
              "      <td>3.000000</td>\n",
              "      <td>37.317298</td>\n",
              "      <td>-122.444293</td>\n",
              "      <td>3.000000</td>\n",
              "      <td>37.317298</td>\n",
              "      <td>-122.444293</td>\n",
              "      <td>10.000000</td>\n",
              "      <td>1886.000000</td>\n",
              "    </tr>\n",
              "    <tr>\n",
              "      <th>25%</th>\n",
              "      <td>382.000000</td>\n",
              "      <td>24.000000</td>\n",
              "      <td>37.773492</td>\n",
              "      <td>-122.411726</td>\n",
              "      <td>23.000000</td>\n",
              "      <td>37.774520</td>\n",
              "      <td>-122.410345</td>\n",
              "      <td>787.000000</td>\n",
              "      <td>1974.000000</td>\n",
              "    </tr>\n",
              "    <tr>\n",
              "      <th>50%</th>\n",
              "      <td>596.000000</td>\n",
              "      <td>67.000000</td>\n",
              "      <td>37.783521</td>\n",
              "      <td>-122.398870</td>\n",
              "      <td>66.000000</td>\n",
              "      <td>37.783830</td>\n",
              "      <td>-122.398525</td>\n",
              "      <td>1728.500000</td>\n",
              "      <td>1983.000000</td>\n",
              "    </tr>\n",
              "    <tr>\n",
              "      <th>75%</th>\n",
              "      <td>938.000000</td>\n",
              "      <td>139.000000</td>\n",
              "      <td>37.795392</td>\n",
              "      <td>-122.391034</td>\n",
              "      <td>134.000000</td>\n",
              "      <td>37.795392</td>\n",
              "      <td>-122.391034</td>\n",
              "      <td>2520.000000</td>\n",
              "      <td>1988.000000</td>\n",
              "    </tr>\n",
              "    <tr>\n",
              "      <th>max</th>\n",
              "      <td>86369.000000</td>\n",
              "      <td>340.000000</td>\n",
              "      <td>37.880222</td>\n",
              "      <td>-121.874119</td>\n",
              "      <td>340.000000</td>\n",
              "      <td>37.880222</td>\n",
              "      <td>-121.874119</td>\n",
              "      <td>3733.000000</td>\n",
              "      <td>1999.000000</td>\n",
              "    </tr>\n",
              "  </tbody>\n",
              "</table>\n",
              "</div>"
            ],
            "text/plain": [
              "        duration_sec  start_station_id  ...        bike_id  member_birth_year\n",
              "count  519700.000000     519700.000000  ...  519700.000000      453159.000000\n",
              "mean     1099.009521         95.034245  ...    1672.533079        1980.404787\n",
              "std      3444.146451         86.083078  ...     971.356959          10.513488\n",
              "min        61.000000          3.000000  ...      10.000000        1886.000000\n",
              "25%       382.000000         24.000000  ...     787.000000        1974.000000\n",
              "50%       596.000000         67.000000  ...    1728.500000        1983.000000\n",
              "75%       938.000000        139.000000  ...    2520.000000        1988.000000\n",
              "max     86369.000000        340.000000  ...    3733.000000        1999.000000\n",
              "\n",
              "[8 rows x 9 columns]"
            ]
          },
          "metadata": {
            "tags": []
          },
          "execution_count": 53
        }
      ]
    },
    {
      "cell_type": "markdown",
      "metadata": {
        "id": "bX9ATph7d51c",
        "colab_type": "text"
      },
      "source": [
        "**Observations**\n",
        "\n",
        "\n",
        "1.   Data has 15 columns entry and 519700 entries\n",
        "2.   No information on user's age,but year. This need to addressed.\n",
        "3. Duration and age are the variables where we will do univariate analysis.\n",
        "\n",
        "\n"
      ]
    },
    {
      "cell_type": "code",
      "metadata": {
        "id": "LEkJ4o9w539U",
        "colab_type": "code",
        "colab": {}
      },
      "source": [
        "df['member_age'] = 2020 - df['member_birth_year']"
      ],
      "execution_count": 0,
      "outputs": []
    },
    {
      "cell_type": "markdown",
      "metadata": {
        "id": "8HsmREV56hgd",
        "colab_type": "text"
      },
      "source": [
        "##univariate exploration##"
      ]
    },
    {
      "cell_type": "markdown",
      "metadata": {
        "id": "eIG4-D2j-NVH",
        "colab_type": "text"
      },
      "source": [
        "\n",
        "\n",
        "checking the null values via coverage. This gives an idea about how healthy is data.\n",
        "\n",
        "birth_year, member_gender and member_age has comparatively lower coverage, which may happen if this data was 'optional'."
      ]
    },
    {
      "cell_type": "code",
      "metadata": {
        "id": "dCoEQecu6mO3",
        "colab_type": "code",
        "outputId": "c846aa89-02a8-4898-d58e-29433842631c",
        "colab": {
          "base_uri": "https://localhost:8080/",
          "height": 545
        }
      },
      "source": [
        "pd.DataFrame(((df.count()-df.isnull().sum() )/df.count())*100 , columns=['coverage'])"
      ],
      "execution_count": 69,
      "outputs": [
        {
          "output_type": "execute_result",
          "data": {
            "text/html": [
              "<div>\n",
              "<style scoped>\n",
              "    .dataframe tbody tr th:only-of-type {\n",
              "        vertical-align: middle;\n",
              "    }\n",
              "\n",
              "    .dataframe tbody tr th {\n",
              "        vertical-align: top;\n",
              "    }\n",
              "\n",
              "    .dataframe thead th {\n",
              "        text-align: right;\n",
              "    }\n",
              "</style>\n",
              "<table border=\"1\" class=\"dataframe\">\n",
              "  <thead>\n",
              "    <tr style=\"text-align: right;\">\n",
              "      <th></th>\n",
              "      <th>coverage</th>\n",
              "    </tr>\n",
              "  </thead>\n",
              "  <tbody>\n",
              "    <tr>\n",
              "      <th>duration_sec</th>\n",
              "      <td>100.000000</td>\n",
              "    </tr>\n",
              "    <tr>\n",
              "      <th>start_time</th>\n",
              "      <td>100.000000</td>\n",
              "    </tr>\n",
              "    <tr>\n",
              "      <th>end_time</th>\n",
              "      <td>100.000000</td>\n",
              "    </tr>\n",
              "    <tr>\n",
              "      <th>start_station_id</th>\n",
              "      <td>100.000000</td>\n",
              "    </tr>\n",
              "    <tr>\n",
              "      <th>start_station_name</th>\n",
              "      <td>100.000000</td>\n",
              "    </tr>\n",
              "    <tr>\n",
              "      <th>start_station_latitude</th>\n",
              "      <td>100.000000</td>\n",
              "    </tr>\n",
              "    <tr>\n",
              "      <th>start_station_longitude</th>\n",
              "      <td>100.000000</td>\n",
              "    </tr>\n",
              "    <tr>\n",
              "      <th>end_station_id</th>\n",
              "      <td>100.000000</td>\n",
              "    </tr>\n",
              "    <tr>\n",
              "      <th>end_station_name</th>\n",
              "      <td>100.000000</td>\n",
              "    </tr>\n",
              "    <tr>\n",
              "      <th>end_station_latitude</th>\n",
              "      <td>100.000000</td>\n",
              "    </tr>\n",
              "    <tr>\n",
              "      <th>end_station_longitude</th>\n",
              "      <td>100.000000</td>\n",
              "    </tr>\n",
              "    <tr>\n",
              "      <th>bike_id</th>\n",
              "      <td>100.000000</td>\n",
              "    </tr>\n",
              "    <tr>\n",
              "      <th>user_type</th>\n",
              "      <td>100.000000</td>\n",
              "    </tr>\n",
              "    <tr>\n",
              "      <th>member_birth_year</th>\n",
              "      <td>85.316191</td>\n",
              "    </tr>\n",
              "    <tr>\n",
              "      <th>member_gender</th>\n",
              "      <td>85.336181</td>\n",
              "    </tr>\n",
              "    <tr>\n",
              "      <th>member_age</th>\n",
              "      <td>85.316191</td>\n",
              "    </tr>\n",
              "  </tbody>\n",
              "</table>\n",
              "</div>"
            ],
            "text/plain": [
              "                           coverage\n",
              "duration_sec             100.000000\n",
              "start_time               100.000000\n",
              "end_time                 100.000000\n",
              "start_station_id         100.000000\n",
              "start_station_name       100.000000\n",
              "start_station_latitude   100.000000\n",
              "start_station_longitude  100.000000\n",
              "end_station_id           100.000000\n",
              "end_station_name         100.000000\n",
              "end_station_latitude     100.000000\n",
              "end_station_longitude    100.000000\n",
              "bike_id                  100.000000\n",
              "user_type                100.000000\n",
              "member_birth_year         85.316191\n",
              "member_gender             85.336181\n",
              "member_age                85.316191"
            ]
          },
          "metadata": {
            "tags": []
          },
          "execution_count": 69
        }
      ]
    },
    {
      "cell_type": "markdown",
      "metadata": {
        "id": "ksgtXgPPw_cD",
        "colab_type": "text"
      },
      "source": [
        "The above coverage shows our data has ~ 15% missing values in member_birth_year and member_gender column.\n",
        "\n",
        "It will be taken care of when we do their univariate analysis."
      ]
    },
    {
      "cell_type": "markdown",
      "metadata": {
        "id": "vC6p0904-6I6",
        "colab_type": "text"
      },
      "source": [
        "##1##\n",
        "*duration_sec*  ( univariate )\n"
      ]
    },
    {
      "cell_type": "code",
      "metadata": {
        "id": "0H1rLDuM-wzj",
        "colab_type": "code",
        "outputId": "a0cd5817-2bde-4487-ab7d-53d711a2c5a2",
        "colab": {
          "base_uri": "https://localhost:8080/",
          "height": 297
        }
      },
      "source": [
        "df['duration_sec'].describe().to_frame()"
      ],
      "execution_count": 56,
      "outputs": [
        {
          "output_type": "execute_result",
          "data": {
            "text/html": [
              "<div>\n",
              "<style scoped>\n",
              "    .dataframe tbody tr th:only-of-type {\n",
              "        vertical-align: middle;\n",
              "    }\n",
              "\n",
              "    .dataframe tbody tr th {\n",
              "        vertical-align: top;\n",
              "    }\n",
              "\n",
              "    .dataframe thead th {\n",
              "        text-align: right;\n",
              "    }\n",
              "</style>\n",
              "<table border=\"1\" class=\"dataframe\">\n",
              "  <thead>\n",
              "    <tr style=\"text-align: right;\">\n",
              "      <th></th>\n",
              "      <th>duration_sec</th>\n",
              "    </tr>\n",
              "  </thead>\n",
              "  <tbody>\n",
              "    <tr>\n",
              "      <th>count</th>\n",
              "      <td>519700.000000</td>\n",
              "    </tr>\n",
              "    <tr>\n",
              "      <th>mean</th>\n",
              "      <td>1099.009521</td>\n",
              "    </tr>\n",
              "    <tr>\n",
              "      <th>std</th>\n",
              "      <td>3444.146451</td>\n",
              "    </tr>\n",
              "    <tr>\n",
              "      <th>min</th>\n",
              "      <td>61.000000</td>\n",
              "    </tr>\n",
              "    <tr>\n",
              "      <th>25%</th>\n",
              "      <td>382.000000</td>\n",
              "    </tr>\n",
              "    <tr>\n",
              "      <th>50%</th>\n",
              "      <td>596.000000</td>\n",
              "    </tr>\n",
              "    <tr>\n",
              "      <th>75%</th>\n",
              "      <td>938.000000</td>\n",
              "    </tr>\n",
              "    <tr>\n",
              "      <th>max</th>\n",
              "      <td>86369.000000</td>\n",
              "    </tr>\n",
              "  </tbody>\n",
              "</table>\n",
              "</div>"
            ],
            "text/plain": [
              "        duration_sec\n",
              "count  519700.000000\n",
              "mean     1099.009521\n",
              "std      3444.146451\n",
              "min        61.000000\n",
              "25%       382.000000\n",
              "50%       596.000000\n",
              "75%       938.000000\n",
              "max     86369.000000"
            ]
          },
          "metadata": {
            "tags": []
          },
          "execution_count": 56
        }
      ]
    },
    {
      "cell_type": "markdown",
      "metadata": {
        "id": "kyvJrLeXyRgR",
        "colab_type": "text"
      },
      "source": [
        "Observations drom 'duration_sec':\n",
        "1. Mimimum duration is {61 sec}  and Maximum is 86369 sec {~24 hours}\n",
        "2. On an average user engages 1/2 hour with Go bike.\n",
        "3. Instance of using GoBike for longer duration is seen in 75%, which is around 26 minutes. Means in 75% of net entries we've users using Gobike for more than 25 minutes.\n",
        "\n",
        "4. Graphical visualisation would show a better picture."
      ]
    },
    {
      "cell_type": "code",
      "metadata": {
        "id": "kXGwIXaFzsOO",
        "colab_type": "code",
        "outputId": "a2c94120-5fbe-4def-c087-04e713ea8c46",
        "colab": {
          "base_uri": "https://localhost:8080/",
          "height": 592
        }
      },
      "source": [
        "df['duration_sec'].hist(figsize = (15,10) , bins = 30)\n",
        "plt.style.use('seaborn')"
      ],
      "execution_count": 57,
      "outputs": [
        {
          "output_type": "display_data",
          "data": {
            "image/png": "[encoded data removed]",
            "text/plain": [
              "<Figure size 1080x720 with 1 Axes>"
            ]
          },
          "metadata": {
            "tags": [],
            "needs_background": "light"
          }
        }
      ]
    },
    {
      "cell_type": "markdown",
      "metadata": {
        "id": "nTcYKC05_-9Q",
        "colab_type": "text"
      },
      "source": [
        "y-axis shows number of unique sessions/entries they're 519700 .\n",
        "x- axis shows time in seconds, a user engages with the platform.\n",
        "\n",
        "Inference:\n",
        "1. clearly >500000 users spend less than 10000 sec in goBike platform.\n",
        "This may suggest that go bikes are used for short distances.\n",
        "2. Users spending > 24 hours as well as users spending < 5000 seconds i.e. 1 hr 22 mins are outliers.\n",
        "\n"
      ]
    },
    {
      "cell_type": "markdown",
      "metadata": {
        "id": "XWIksMobcjJz",
        "colab_type": "text"
      },
      "source": [
        "***Dealing with 1hr 22 mins outlier having n number of users.***\n",
        "\n",
        "- Slicing the 'duration_sec' column and plotting users clocking less than 1hr 22min.\n"
      ]
    },
    {
      "cell_type": "code",
      "metadata": {
        "id": "Tf8TyAMvXmTE",
        "colab_type": "code",
        "outputId": "55bbaf88-3486-4286-ad7d-0f978cbacd73",
        "colab": {
          "base_uri": "https://localhost:8080/",
          "height": 483
        }
      },
      "source": [
        "duration_filter = df.loc[:, 'duration_sec'] <= 5000\n",
        "df.loc[duration_filter , 'duration_sec'].hist(figsize = (10,8) ,bins = 30 , edgecolor = 'black')\n",
        "plt.style.use('seaborn')"
      ],
      "execution_count": 58,
      "outputs": [
        {
          "output_type": "display_data",
          "data": {
            "image/png": "[encoded data removed]",
            "text/plain": [
              "<Figure size 720x576 with 1 Axes>"
            ]
          },
          "metadata": {
            "tags": []
          }
        }
      ]
    },
    {
      "cell_type": "markdown",
      "metadata": {
        "id": "Qmxt9f5kZTH4",
        "colab_type": "text"
      },
      "source": [
        "y axis shows number of users, in numbers\n",
        "\n",
        "x axis represents the duration, in seconds\n",
        "\n",
        ">100000 users on the platform are riding for <5000 seconds.\n",
        "\n",
        "This is an interesting observation as it represents around 19.5% of the total number of data sets available.\n",
        "\n",
        "* This can be concluded that 20% of users like to spend <5000 seconds in the platform."
      ]
    },
    {
      "cell_type": "markdown",
      "metadata": {
        "id": "H0hbLVXRjpkS",
        "colab_type": "text"
      },
      "source": [
        "**Dealing with 24 hour usage of GoBikes**\n",
        "\n",
        "- this also includes more than 10 hours of usage."
      ]
    },
    {
      "cell_type": "code",
      "metadata": {
        "id": "g9xrw_G0jwn8",
        "colab_type": "code",
        "outputId": "ea906910-3def-4e60-9e06-4ec9590d6a38",
        "colab": {
          "base_uri": "https://localhost:8080/",
          "height": 485
        }
      },
      "source": [
        "duration_filter2 = df.loc[:, 'duration_sec'] > 36000\n",
        "df.loc[duration_filter2, 'duration_sec'].hist(figsize = (10,8) , bins = 30, edgecolor = 'black')\n",
        "plt.style.use('seaborn')"
      ],
      "execution_count": 59,
      "outputs": [
        {
          "output_type": "display_data",
          "data": {
            "image/png": "[encoded data removed]",
            "text/plain": [
              "<Figure size 720x576 with 1 Axes>"
            ]
          },
          "metadata": {
            "tags": []
          }
        }
      ]
    },
    {
      "cell_type": "markdown",
      "metadata": {
        "id": "z2TyKjKGwu41",
        "colab_type": "text"
      },
      "source": [
        "Observations from ~ 10 hr users:\n",
        "\n",
        "1. Maybe these users are Subscribers. We will need more info on that. \n",
        "\n",
        "2. The dock stations might be flawed. Since no one can practically use bike for this long duration. Despite putting bikes on their place, the session is not being terminated.\n",
        "A user/subscriber chronicle analysis can help here.\n",
        "\n",
        "3. Maybe some users are carrying bike with them all day long, like they are parking it in their office or parking spaces.\n",
        "\n",
        "4. By utilizing geofence, these users can be penalised for extra usage. This would help in optimum utilization of gobikes."
      ]
    },
    {
      "cell_type": "code",
      "metadata": {
        "id": "MgAZBEkV3fh6",
        "colab_type": "code",
        "outputId": "a4be2a9e-7dce-459f-d211-e76ae9a98f6f",
        "colab": {
          "base_uri": "https://localhost:8080/",
          "height": 364
        }
      },
      "source": [
        "np.log(df['duration_sec']).plot(kind = 'hist' ,bins = 50)"
      ],
      "execution_count": 60,
      "outputs": [
        {
          "output_type": "execute_result",
          "data": {
            "text/plain": [
              "<matplotlib.axes._subplots.AxesSubplot at 0x7fbba4824dd8>"
            ]
          },
          "metadata": {
            "tags": []
          },
          "execution_count": 60
        },
        {
          "output_type": "display_data",
          "data": {
            "image/png": "[encoded data removed]",
            "text/plain": [
              "<Figure size 576x396 with 1 Axes>"
            ]
          },
          "metadata": {
            "tags": []
          }
        }
      ]
    },
    {
      "cell_type": "markdown",
      "metadata": {
        "id": "z34K3JCI9qHc",
        "colab_type": "text"
      },
      "source": [
        "##2##\n",
        "\n",
        "member_age ( univariate )"
      ]
    },
    {
      "cell_type": "code",
      "metadata": {
        "id": "wDoheNhN2LyF",
        "colab_type": "code",
        "outputId": "168ccd9e-4e4a-4ef0-c8f5-70949fe3e9a2",
        "colab": {
          "base_uri": "https://localhost:8080/",
          "height": 51
        }
      },
      "source": [
        "df['member_age'].mode()"
      ],
      "execution_count": 61,
      "outputs": [
        {
          "output_type": "execute_result",
          "data": {
            "text/plain": [
              "0    35.0\n",
              "dtype: float64"
            ]
          },
          "metadata": {
            "tags": []
          },
          "execution_count": 61
        }
      ]
    },
    {
      "cell_type": "code",
      "metadata": {
        "id": "BFdh2k0l9plh",
        "colab_type": "code",
        "outputId": "9f0cf34c-7dfa-4f53-fd47-8fc0724fdeaf",
        "colab": {
          "base_uri": "https://localhost:8080/",
          "height": 297
        }
      },
      "source": [
        "df['member_age'].describe().to_frame()"
      ],
      "execution_count": 62,
      "outputs": [
        {
          "output_type": "execute_result",
          "data": {
            "text/html": [
              "<div>\n",
              "<style scoped>\n",
              "    .dataframe tbody tr th:only-of-type {\n",
              "        vertical-align: middle;\n",
              "    }\n",
              "\n",
              "    .dataframe tbody tr th {\n",
              "        vertical-align: top;\n",
              "    }\n",
              "\n",
              "    .dataframe thead th {\n",
              "        text-align: right;\n",
              "    }\n",
              "</style>\n",
              "<table border=\"1\" class=\"dataframe\">\n",
              "  <thead>\n",
              "    <tr style=\"text-align: right;\">\n",
              "      <th></th>\n",
              "      <th>member_age</th>\n",
              "    </tr>\n",
              "  </thead>\n",
              "  <tbody>\n",
              "    <tr>\n",
              "      <th>count</th>\n",
              "      <td>453159.000000</td>\n",
              "    </tr>\n",
              "    <tr>\n",
              "      <th>mean</th>\n",
              "      <td>39.595213</td>\n",
              "    </tr>\n",
              "    <tr>\n",
              "      <th>std</th>\n",
              "      <td>10.513488</td>\n",
              "    </tr>\n",
              "    <tr>\n",
              "      <th>min</th>\n",
              "      <td>21.000000</td>\n",
              "    </tr>\n",
              "    <tr>\n",
              "      <th>25%</th>\n",
              "      <td>32.000000</td>\n",
              "    </tr>\n",
              "    <tr>\n",
              "      <th>50%</th>\n",
              "      <td>37.000000</td>\n",
              "    </tr>\n",
              "    <tr>\n",
              "      <th>75%</th>\n",
              "      <td>46.000000</td>\n",
              "    </tr>\n",
              "    <tr>\n",
              "      <th>max</th>\n",
              "      <td>134.000000</td>\n",
              "    </tr>\n",
              "  </tbody>\n",
              "</table>\n",
              "</div>"
            ],
            "text/plain": [
              "          member_age\n",
              "count  453159.000000\n",
              "mean       39.595213\n",
              "std        10.513488\n",
              "min        21.000000\n",
              "25%        32.000000\n",
              "50%        37.000000\n",
              "75%        46.000000\n",
              "max       134.000000"
            ]
          },
          "metadata": {
            "tags": []
          },
          "execution_count": 62
        }
      ]
    },
    {
      "cell_type": "markdown",
      "metadata": {
        "id": "vymKxHil0r2w",
        "colab_type": "text"
      },
      "source": [
        "Observations form member_age describe table:\n",
        "\n",
        "1. Total number of entries are 453159, which is 66541 less than total entries.\n",
        "\n",
        "2. Average age is 39 years. Minimum user age is 21 years. \n",
        "75% of users are above 45 years.\n",
        "\n",
        "Maximum age is 134 years, this is a flaw.\n",
        "\n",
        "35  <37 < 39\n",
        "\n",
        "Mode < Median < Mean\n",
        "\n",
        "Data is left skewed"
      ]
    },
    {
      "cell_type": "code",
      "metadata": {
        "id": "8kaavs6o3RnR",
        "colab_type": "code",
        "outputId": "15737ecf-03f6-4830-e114-53d1251d5fa3",
        "colab": {
          "base_uri": "https://localhost:8080/",
          "height": 497
        }
      },
      "source": [
        "df['member_age'].hist(figsize = (10,8) ,bins = 30, edgecolor = 'black').set(xlabel = 'member_age' , ylabel = 'duration_sec')\n",
        "plt.style.use('seaborn')"
      ],
      "execution_count": 63,
      "outputs": [
        {
          "output_type": "display_data",
          "data": {
            "image/png": "[encoded data removed]",
            "text/plain": [
              "<Figure size 720x576 with 1 Axes>"
            ]
          },
          "metadata": {
            "tags": []
          }
        }
      ]
    },
    {
      "cell_type": "markdown",
      "metadata": {
        "id": "IhcE0zET6OX5",
        "colab_type": "text"
      },
      "source": [
        "Observations:\n",
        "\n",
        "1. <=60 years of users have heavy engagemet in platform.\n",
        "\n",
        "2. Majority of users are in 21 to 80 years bracket, these are users who are clocking more than 1000 seconds."
      ]
    },
    {
      "cell_type": "markdown",
      "metadata": {
        "id": "WRtFGd-Z9cT0",
        "colab_type": "text"
      },
      "source": [
        "##3##\n",
        "\n",
        "start_station_name\n",
        "\n",
        "end_station_name\n",
        "\n",
        "-Let's analyse them."
      ]
    },
    {
      "cell_type": "code",
      "metadata": {
        "id": "zszBcQUz_m7l",
        "colab_type": "code",
        "outputId": "3ac65a5a-6bb8-4361-dbcd-cf2fc9a41f42",
        "colab": {
          "base_uri": "https://localhost:8080/",
          "height": 221
        }
      },
      "source": [
        "df['start_station_name'].value_counts()\n"
      ],
      "execution_count": 64,
      "outputs": [
        {
          "output_type": "execute_result",
          "data": {
            "text/plain": [
              "San Francisco Ferry Building (Harry Bridges Plaza)           15187\n",
              "The Embarcadero at Sansome St                                13664\n",
              "San Francisco Caltrain (Townsend St at 4th St)               12546\n",
              "San Francisco Caltrain Station 2  (Townsend St at 4th St)    12055\n",
              "Market St at 10th St                                         11960\n",
              "                                                             ...  \n",
              "Pierce Ave at Market St                                         11\n",
              "Harmon St at Adeline St                                          6\n",
              "Empire St at 1st St                                              5\n",
              "Jackson St at 11th St                                            2\n",
              "Ellsworth St at Russell St                                       1\n",
              "Name: start_station_name, Length: 272, dtype: int64"
            ]
          },
          "metadata": {
            "tags": []
          },
          "execution_count": 64
        }
      ]
    },
    {
      "cell_type": "markdown",
      "metadata": {
        "id": "sDCyjO3NFP62",
        "colab_type": "text"
      },
      "source": [
        "# ask Shreyas- 'ascending', [:20]."
      ]
    },
    {
      "cell_type": "code",
      "metadata": {
        "id": "8TZTkye6Bx6m",
        "colab_type": "code",
        "outputId": "da4bf0bb-54e1-4697-a49a-7e18ccfc481a",
        "colab": {
          "base_uri": "https://localhost:8080/",
          "height": 606
        }
      },
      "source": [
        "df['start_station_name'].value_counts().sort_values(ascending = False)[:20].plot(kind = 'barh' ,figsize = (10,10)).set(xlabel = 'Station name')\n",
        "plt.style.use('seaborn')"
      ],
      "execution_count": 65,
      "outputs": [
        {
          "output_type": "display_data",
          "data": {
            "image/png": "[encoded data removed]",
            "text/plain": [
              "<Figure size 720x720 with 1 Axes>"
            ]
          },
          "metadata": {
            "tags": []
          }
        }
      ]
    },
    {
      "cell_type": "markdown",
      "metadata": {
        "id": "4jQGDCfE-2bS",
        "colab_type": "text"
      },
      "source": [
        "observations:\n",
        "\n",
        "1. San Francisco Ferry Building is the most used station.\n",
        "2. More than 15187 sessions are clocked from here. Maybe this is a centre point of public transportation.\n"
      ]
    },
    {
      "cell_type": "code",
      "metadata": {
        "id": "1zOTTiOWAC4c",
        "colab_type": "code",
        "outputId": "6102aceb-0fcc-4c67-8e57-057014cca5cc",
        "colab": {
          "base_uri": "https://localhost:8080/",
          "height": 221
        }
      },
      "source": [
        "df['end_station_name'].value_counts()"
      ],
      "execution_count": 67,
      "outputs": [
        {
          "output_type": "execute_result",
          "data": {
            "text/plain": [
              "San Francisco Caltrain (Townsend St at 4th St)               17378\n",
              "San Francisco Ferry Building (Harry Bridges Plaza)           17109\n",
              "The Embarcadero at Sansome St                                16531\n",
              "San Francisco Caltrain Station 2  (Townsend St at 4th St)    13658\n",
              "Montgomery St BART Station (Market St at 2nd St)             13443\n",
              "                                                             ...  \n",
              "Pierce Ave at Market St                                          7\n",
              "Harmon St at Adeline St                                          4\n",
              "Jackson St at 11th St                                            3\n",
              "Ellsworth St at Russell St                                       2\n",
              "Empire St at 1st St                                              2\n",
              "Name: end_station_name, Length: 272, dtype: int64"
            ]
          },
          "metadata": {
            "tags": []
          },
          "execution_count": 67
        }
      ]
    },
    {
      "cell_type": "code",
      "metadata": {
        "id": "nbs2oDbZE5oT",
        "colab_type": "code",
        "colab": {
          "base_uri": "https://localhost:8080/",
          "height": 606
        },
        "outputId": "9d1c78db-9836-4ed5-a3dd-f3d421476ca5"
      },
      "source": [
        "df['end_station_name'].value_counts().sort_values(ascending = False)[:20].plot(kind = 'barh' , figsize = (10,10)).set(xlabel = 'End Station name')\n",
        "plt.show()"
      ],
      "execution_count": 70,
      "outputs": [
        {
          "output_type": "display_data",
          "data": {
            "image/png": "[encoded data removed]",
            "text/plain": [
              "<Figure size 720x720 with 1 Axes>"
            ]
          },
          "metadata": {
            "tags": []
          }
        }
      ]
    },
    {
      "cell_type": "markdown",
      "metadata": {
        "id": "yB6AWmPFG3Ny",
        "colab_type": "text"
      },
      "source": [
        "Obs:\n",
        "\n",
        "1. San Francisco Caltrain clocks most number of end station usage.\n",
        "\n",
        "2. San Francisco Ferry Building and San Francisco Caltrain seems to be popular start and end choices among users.\n",
        "\n",
        "3. If we were to advertize or take surveys, these stations would be a better place to start."
      ]
    },
    {
      "cell_type": "markdown",
      "metadata": {
        "id": "DlhykWOsHmfx",
        "colab_type": "text"
      },
      "source": [
        "##4##\n",
        "\n",
        "Gender distribution \n",
        "&\n",
        "User types"
      ]
    },
    {
      "cell_type": "code",
      "metadata": {
        "id": "zUC7LfkfHly2",
        "colab_type": "code",
        "colab": {
          "base_uri": "https://localhost:8080/",
          "height": 102
        },
        "outputId": "e0e116a5-0c1c-4eeb-c127-27e49c4d216b"
      },
      "source": [
        "df['member_gender'].describe()"
      ],
      "execution_count": 71,
      "outputs": [
        {
          "output_type": "execute_result",
          "data": {
            "text/plain": [
              "count     453238\n",
              "unique         3\n",
              "top         Male\n",
              "freq      348318\n",
              "Name: member_gender, dtype: object"
            ]
          },
          "metadata": {
            "tags": []
          },
          "execution_count": 71
        }
      ]
    },
    {
      "cell_type": "code",
      "metadata": {
        "id": "_YqNiR6aH58M",
        "colab_type": "code",
        "colab": {
          "base_uri": "https://localhost:8080/",
          "height": 629
        },
        "outputId": "5b66d436-4b83-4951-b80a-386b6cb34c80"
      },
      "source": [
        "df['member_gender'].value_counts().plot(kind = 'bar', figsize = (10,10)).set(xlabel = 'gender')\n",
        "plt.show()"
      ],
      "execution_count": 77,
      "outputs": [
        {
          "output_type": "display_data",
          "data": {
            "image/png": "[encoded data removed]",
            "text/plain": [
              "<Figure size 720x720 with 1 Axes>"
            ]
          },
          "metadata": {
            "tags": []
          }
        }
      ]
    },
    {
      "cell_type": "markdown",
      "metadata": {
        "id": "LXvyZ_C0JVGY",
        "colab_type": "text"
      },
      "source": [
        "Obs:\n",
        "\n",
        "1. Clearly Male gender engagement is more with the platform."
      ]
    },
    {
      "cell_type": "code",
      "metadata": {
        "id": "sXOWq7TpKAMl",
        "colab_type": "code",
        "colab": {
          "base_uri": "https://localhost:8080/",
          "height": 384
        },
        "outputId": "9453b0f0-d11b-45d4-b44b-53ef98fb2ddb"
      },
      "source": [
        "df['user_type'].value_counts().plot(kind = 'bar')\n",
        "plt.show()"
      ],
      "execution_count": 80,
      "outputs": [
        {
          "output_type": "display_data",
          "data": {
            "image/png": "[encoded data removed]",
            "text/plain": [
              "<Figure size 576x396 with 1 Axes>"
            ]
          },
          "metadata": {
            "tags": []
          }
        }
      ]
    },
    {
      "cell_type": "markdown",
      "metadata": {
        "id": "0Nq811ytKgQf",
        "colab_type": "text"
      },
      "source": [
        "Obs:\n",
        "\n",
        "1. we need clarity on definition of Subs and Customer.\n",
        "\n",
        "2. Subs engagement is greater than Customer's"
      ]
    },
    {
      "cell_type": "markdown",
      "metadata": {
        "id": "ciVcB7SHKoPZ",
        "colab_type": "text"
      },
      "source": [
        "**Minutes of Analysis**\n",
        "\n",
        "*MOA*\n",
        "\n",
        "1. By analysing duration_sec, *we concluded* that users using gobikes for more than 10 hrs could be outliers.\n",
        "Further slicing of different durations can be done, if needed.\n",
        "\n",
        "2. member_age provided with a context about age of gobikes user. 21 to 60 years showed heavy engagement in platform. This is a good distribution among all age group. \n",
        "But since user is giving out this info, *we cannot conclude* it is 100% true.\n",
        "Note : We've a user with 134 years of age. So we need to take this into consideration before taking any call with member_age data.\n",
        "\n",
        "3. Start and End stations analysis showed what are major points in city where our users begin and end their journey.\n",
        "*This data can be relied* for targetting adverstiment according to age groups.\n",
        "Data can further be sliced to get specific user - station engagement.\n",
        "\n",
        "4. Gender diversification shows strong base of male users. If this data is supplied by user, *we can't rely* on it."
      ]
    },
    {
      "cell_type": "markdown",
      "metadata": {
        "id": "GA4RprXcPi28",
        "colab_type": "text"
      },
      "source": [
        "                              **END**\n",
        "\n",
        "                                of\n",
        "\n",
        "                        \n",
        "                        Univariate Analysis"
      ]
    },
    {
      "cell_type": "markdown",
      "metadata": {
        "id": "LfVx6Qb3Q28h",
        "colab_type": "text"
      },
      "source": [
        "**Bivariate analysis**"
      ]
    },
    {
      "cell_type": "code",
      "metadata": {
        "id": "32EJ7SUvQ7Uz",
        "colab_type": "code",
        "colab": {
          "base_uri": "https://localhost:8080/",
          "height": 379
        },
        "outputId": "f2645944-4fdb-48a8-e791-dac7b5780fb2"
      },
      "source": [
        "df.corr()"
      ],
      "execution_count": 83,
      "outputs": [
        {
          "output_type": "execute_result",
          "data": {
            "text/html": [
              "<div>\n",
              "<style scoped>\n",
              "    .dataframe tbody tr th:only-of-type {\n",
              "        vertical-align: middle;\n",
              "    }\n",
              "\n",
              "    .dataframe tbody tr th {\n",
              "        vertical-align: top;\n",
              "    }\n",
              "\n",
              "    .dataframe thead th {\n",
              "        text-align: right;\n",
              "    }\n",
              "</style>\n",
              "<table border=\"1\" class=\"dataframe\">\n",
              "  <thead>\n",
              "    <tr style=\"text-align: right;\">\n",
              "      <th></th>\n",
              "      <th>duration_sec</th>\n",
              "      <th>start_station_id</th>\n",
              "      <th>start_station_latitude</th>\n",
              "      <th>start_station_longitude</th>\n",
              "      <th>end_station_id</th>\n",
              "      <th>end_station_latitude</th>\n",
              "      <th>end_station_longitude</th>\n",
              "      <th>bike_id</th>\n",
              "      <th>member_birth_year</th>\n",
              "      <th>member_age</th>\n",
              "    </tr>\n",
              "  </thead>\n",
              "  <tbody>\n",
              "    <tr>\n",
              "      <th>duration_sec</th>\n",
              "      <td>1.000000</td>\n",
              "      <td>0.003569</td>\n",
              "      <td>0.001438</td>\n",
              "      <td>0.004094</td>\n",
              "      <td>0.011965</td>\n",
              "      <td>0.002159</td>\n",
              "      <td>0.002296</td>\n",
              "      <td>-0.012617</td>\n",
              "      <td>0.004903</td>\n",
              "      <td>-0.004903</td>\n",
              "    </tr>\n",
              "    <tr>\n",
              "      <th>start_station_id</th>\n",
              "      <td>0.003569</td>\n",
              "      <td>1.000000</td>\n",
              "      <td>-0.345664</td>\n",
              "      <td>0.624608</td>\n",
              "      <td>0.570371</td>\n",
              "      <td>-0.330293</td>\n",
              "      <td>0.631477</td>\n",
              "      <td>-0.048995</td>\n",
              "      <td>0.103517</td>\n",
              "      <td>-0.103517</td>\n",
              "    </tr>\n",
              "    <tr>\n",
              "      <th>start_station_latitude</th>\n",
              "      <td>0.001438</td>\n",
              "      <td>-0.345664</td>\n",
              "      <td>1.000000</td>\n",
              "      <td>-0.720633</td>\n",
              "      <td>-0.341441</td>\n",
              "      <td>0.988059</td>\n",
              "      <td>-0.726552</td>\n",
              "      <td>0.001819</td>\n",
              "      <td>-0.051305</td>\n",
              "      <td>0.051305</td>\n",
              "    </tr>\n",
              "    <tr>\n",
              "      <th>start_station_longitude</th>\n",
              "      <td>0.004094</td>\n",
              "      <td>0.624608</td>\n",
              "      <td>-0.720633</td>\n",
              "      <td>1.000000</td>\n",
              "      <td>0.655876</td>\n",
              "      <td>-0.727264</td>\n",
              "      <td>0.992206</td>\n",
              "      <td>-0.079755</td>\n",
              "      <td>0.065323</td>\n",
              "      <td>-0.065323</td>\n",
              "    </tr>\n",
              "    <tr>\n",
              "      <th>end_station_id</th>\n",
              "      <td>0.011965</td>\n",
              "      <td>0.570371</td>\n",
              "      <td>-0.341441</td>\n",
              "      <td>0.655876</td>\n",
              "      <td>1.000000</td>\n",
              "      <td>-0.365819</td>\n",
              "      <td>0.649186</td>\n",
              "      <td>-0.050836</td>\n",
              "      <td>0.100570</td>\n",
              "      <td>-0.100570</td>\n",
              "    </tr>\n",
              "    <tr>\n",
              "      <th>end_station_latitude</th>\n",
              "      <td>0.002159</td>\n",
              "      <td>-0.330293</td>\n",
              "      <td>0.988059</td>\n",
              "      <td>-0.727264</td>\n",
              "      <td>-0.365819</td>\n",
              "      <td>1.000000</td>\n",
              "      <td>-0.728524</td>\n",
              "      <td>0.002874</td>\n",
              "      <td>-0.051550</td>\n",
              "      <td>0.051550</td>\n",
              "    </tr>\n",
              "    <tr>\n",
              "      <th>end_station_longitude</th>\n",
              "      <td>0.002296</td>\n",
              "      <td>0.631477</td>\n",
              "      <td>-0.726552</td>\n",
              "      <td>0.992206</td>\n",
              "      <td>0.649186</td>\n",
              "      <td>-0.728524</td>\n",
              "      <td>1.000000</td>\n",
              "      <td>-0.078613</td>\n",
              "      <td>0.067359</td>\n",
              "      <td>-0.067359</td>\n",
              "    </tr>\n",
              "    <tr>\n",
              "      <th>bike_id</th>\n",
              "      <td>-0.012617</td>\n",
              "      <td>-0.048995</td>\n",
              "      <td>0.001819</td>\n",
              "      <td>-0.079755</td>\n",
              "      <td>-0.050836</td>\n",
              "      <td>0.002874</td>\n",
              "      <td>-0.078613</td>\n",
              "      <td>1.000000</td>\n",
              "      <td>0.005002</td>\n",
              "      <td>-0.005002</td>\n",
              "    </tr>\n",
              "    <tr>\n",
              "      <th>member_birth_year</th>\n",
              "      <td>0.004903</td>\n",
              "      <td>0.103517</td>\n",
              "      <td>-0.051305</td>\n",
              "      <td>0.065323</td>\n",
              "      <td>0.100570</td>\n",
              "      <td>-0.051550</td>\n",
              "      <td>0.067359</td>\n",
              "      <td>0.005002</td>\n",
              "      <td>1.000000</td>\n",
              "      <td>-1.000000</td>\n",
              "    </tr>\n",
              "    <tr>\n",
              "      <th>member_age</th>\n",
              "      <td>-0.004903</td>\n",
              "      <td>-0.103517</td>\n",
              "      <td>0.051305</td>\n",
              "      <td>-0.065323</td>\n",
              "      <td>-0.100570</td>\n",
              "      <td>0.051550</td>\n",
              "      <td>-0.067359</td>\n",
              "      <td>-0.005002</td>\n",
              "      <td>-1.000000</td>\n",
              "      <td>1.000000</td>\n",
              "    </tr>\n",
              "  </tbody>\n",
              "</table>\n",
              "</div>"
            ],
            "text/plain": [
              "                         duration_sec  ...  member_age\n",
              "duration_sec                 1.000000  ...   -0.004903\n",
              "start_station_id             0.003569  ...   -0.103517\n",
              "start_station_latitude       0.001438  ...    0.051305\n",
              "start_station_longitude      0.004094  ...   -0.065323\n",
              "end_station_id               0.011965  ...   -0.100570\n",
              "end_station_latitude         0.002159  ...    0.051550\n",
              "end_station_longitude        0.002296  ...   -0.067359\n",
              "bike_id                     -0.012617  ...   -0.005002\n",
              "member_birth_year            0.004903  ...   -1.000000\n",
              "member_age                  -0.004903  ...    1.000000\n",
              "\n",
              "[10 rows x 10 columns]"
            ]
          },
          "metadata": {
            "tags": []
          },
          "execution_count": 83
        }
      ]
    },
    {
      "cell_type": "code",
      "metadata": {
        "id": "X9LZa5ULRLaT",
        "colab_type": "code",
        "colab": {
          "base_uri": "https://localhost:8080/",
          "height": 442
        },
        "outputId": "5bc4b2d6-25ed-45eb-9d66-b24689639932"
      },
      "source": [
        "sns.heatmap(df.corr())"
      ],
      "execution_count": 86,
      "outputs": [
        {
          "output_type": "display_data",
          "data": {
            "image/png": "[encoded data removed]",
            "text/plain": [
              "<Figure size 576x396 with 2 Axes>"
            ]
          },
          "metadata": {
            "tags": []
          }
        }
      ]
    },
    {
      "cell_type": "markdown",
      "metadata": {
        "id": "P_hO5Xc7SGmy",
        "colab_type": "text"
      },
      "source": [
        "\n",
        "It is hard to establish any correlation yet, based on the given data.\n"
      ]
    }
  ]
}